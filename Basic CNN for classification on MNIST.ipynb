{
 "cells": [
  {
   "cell_type": "markdown",
   "id": "50cadc91",
   "metadata": {},
   "source": [
    "# imports"
   ]
  },
  {
   "cell_type": "code",
   "execution_count": 6,
   "id": "f3891d45",
   "metadata": {},
   "outputs": [],
   "source": [
    "import torch\n",
    "import torch.nn as nn\n",
    "import torch.optim as optim\n",
    "import torch.nn.functional as F\n",
    "from torch.utils.data import DataLoader\n",
    "import torchvision.datasets as datasets\n",
    "import torchvision.transforms as transforms # tranformations that can perform on dataset"
   ]
  },
  {
   "cell_type": "code",
   "execution_count": 7,
   "id": "534b83a4",
   "metadata": {},
   "outputs": [],
   "source": [
    "class CNN(nn.Module):\n",
    "    def __init__(self, in_channels=1, num_classes=10):\n",
    "        super(CNN, self).__init__()\n",
    "        self.conv1= nn.Conv2d(in_channels=1, out_channels=8, kernel_size=(3,3), stride=(1,1),padding=(1,1))\n",
    "        self.pool= nn.MaxPool2d(kernel_size=(2,2), stride=(2,2))\n",
    "        self.conv2= nn.Conv2d(in_channels=8, out_channels=16, kernel_size=(3,3), stride=(1,1),padding=(1,1))\n",
    "        self.fc1= nn.Linear(16*7*7, num_classes)\n",
    "        \n",
    "    def forward(self, x):\n",
    "        x= F.relu(self.conv1(x))\n",
    "        x= self.pool(x)\n",
    "        x= F.relu(self.conv2(x))\n",
    "        x= self.pool(x)\n",
    "        x= x.reshape(x.shape[0], -1) #flatten 4 fc\n",
    "        x= self.fc1(x)\n",
    "        \n",
    "        return x\n",
    "    "
   ]
  },
  {
   "cell_type": "code",
   "execution_count": 8,
   "id": "cc78f06b",
   "metadata": {},
   "outputs": [
    {
     "name": "stdout",
     "output_type": "stream",
     "text": [
      "torch.Size([64, 10])\n"
     ]
    }
   ],
   "source": [
    "model= CNN()\n",
    "x= torch.randn(64, 1, 28, 28)\n",
    "print(model(x).shape)"
   ]
  },
  {
   "cell_type": "markdown",
   "id": "da7cae0d",
   "metadata": {},
   "source": [
    "# hyper params"
   ]
  },
  {
   "cell_type": "code",
   "execution_count": 9,
   "id": "1470af09",
   "metadata": {},
   "outputs": [],
   "source": [
    "# Set device\n",
    "device = torch.device(\"cuda\" if torch.cuda.is_available() else \"cpu\")\n",
    "\n",
    "# Hyperparameters\n",
    "in_channels = 1\n",
    "num_classes = 10\n",
    "learning_rate = 3e-4 # karpathy's constant\n",
    "batch_size = 64\n",
    "num_epochs = 3"
   ]
  },
  {
   "cell_type": "markdown",
   "id": "ae506804",
   "metadata": {},
   "source": [
    "# Load data"
   ]
  },
  {
   "cell_type": "code",
   "execution_count": 12,
   "id": "012ba7c0",
   "metadata": {},
   "outputs": [],
   "source": [
    "train_dataset= datasets.MNIST(\n",
    "    root=\"dataset/\", train=True, transform= transforms.ToTensor(), download= True\n",
    ")\n",
    "test_dataset= datasets.MNIST(\n",
    "    root='dataset/', train=False, transform= transforms.ToTensor(), download= True\n",
    ")\n",
    "train_loader= DataLoader(dataset= train_dataset, batch_size= batch_size, shuffle= True)\n",
    "test_loader= DataLoader(dataset= test_dataset, batch_size=batch_size, shuffle= True)"
   ]
  },
  {
   "cell_type": "code",
   "execution_count": 13,
   "id": "45e0b45a",
   "metadata": {},
   "outputs": [],
   "source": [
    "model= CNN (in_channels= in_channels, num_classes= num_classes).to(device)"
   ]
  },
  {
   "cell_type": "code",
   "execution_count": 14,
   "id": "819cf2c3",
   "metadata": {},
   "outputs": [],
   "source": [
    "criterion= nn.CrossEntropyLoss()\n",
    "optimizer= optim.Adam(model.parameters(), lr=learning_rate)"
   ]
  },
  {
   "cell_type": "markdown",
   "id": "3ae7369b",
   "metadata": {},
   "source": [
    "# train the network"
   ]
  },
  {
   "cell_type": "code",
   "execution_count": 17,
   "id": "2b53dcdb",
   "metadata": {},
   "outputs": [],
   "source": [
    "from tqdm import tqdm  # For nice progress bar!"
   ]
  },
  {
   "cell_type": "code",
   "execution_count": 18,
   "id": "b8b0efa6",
   "metadata": {},
   "outputs": [
    {
     "name": "stderr",
     "output_type": "stream",
     "text": [
      "100%|████████████████████████████████████████████████████████████████████████████████| 938/938 [00:16<00:00, 58.01it/s]\n",
      "100%|████████████████████████████████████████████████████████████████████████████████| 938/938 [00:17<00:00, 54.63it/s]\n",
      "100%|████████████████████████████████████████████████████████████████████████████████| 938/938 [00:17<00:00, 55.15it/s]\n"
     ]
    }
   ],
   "source": [
    "for epoch in range(num_epochs):\n",
    "    for batch_idx, (data, targets) in enumerate(tqdm(train_loader)):\n",
    "        # Get data to cuda if possible\n",
    "        data = data.to(device=device)\n",
    "        targets = targets.to(device=device)\n",
    "\n",
    "        # forward\n",
    "        scores = model(data)\n",
    "        loss = criterion(scores, targets)\n",
    "\n",
    "        # backward\n",
    "        optimizer.zero_grad()\n",
    "        loss.backward()\n",
    "\n",
    "        # gradient descent or adam step\n",
    "        optimizer.step()\n"
   ]
  },
  {
   "cell_type": "code",
   "execution_count": 19,
   "id": "1537104a",
   "metadata": {},
   "outputs": [
    {
     "name": "stdout",
     "output_type": "stream",
     "text": [
      "Accuracy on training set: 95.83\n",
      "Accuracy on test set: 96.10\n"
     ]
    }
   ],
   "source": [
    "#Check accuracy on training & test to see how good our model\n",
    "def check_accuracy(loader, model):\n",
    "    num_correct = 0\n",
    "    num_samples = 0\n",
    "    model.eval()\n",
    "\n",
    "    with torch.no_grad():\n",
    "        for x, y in loader:\n",
    "            x = x.to(device=device)\n",
    "            y = y.to(device=device)\n",
    "\n",
    "            scores = model(x)\n",
    "            _, predictions = scores.max(1)\n",
    "            num_correct += (predictions == y).sum()\n",
    "            num_samples += predictions.size(0)\n",
    "\n",
    "    model.train()\n",
    "    return num_correct / num_samples\n",
    "\n",
    "\n",
    "print(f\"Accuracy on training set: {check_accuracy(train_loader, model)*100:.2f}\")\n",
    "print(f\"Accuracy on test set: {check_accuracy(test_loader, model)*100:.2f}\")"
   ]
  },
  {
   "cell_type": "code",
   "execution_count": null,
   "id": "8253e7d0",
   "metadata": {},
   "outputs": [],
   "source": []
  }
 ],
 "metadata": {
  "kernelspec": {
   "display_name": "Python 3 (ipykernel)",
   "language": "python",
   "name": "python3"
  },
  "language_info": {
   "codemirror_mode": {
    "name": "ipython",
    "version": 3
   },
   "file_extension": ".py",
   "mimetype": "text/x-python",
   "name": "python",
   "nbconvert_exporter": "python",
   "pygments_lexer": "ipython3",
   "version": "3.10.9"
  }
 },
 "nbformat": 4,
 "nbformat_minor": 5
}
